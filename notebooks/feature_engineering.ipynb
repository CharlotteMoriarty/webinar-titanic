{
 "cells": [
  {
   "cell_type": "code",
   "execution_count": 1,
   "metadata": {
    "collapsed": true
   },
   "outputs": [],
   "source": [
    "import pandas as pd\n",
    "import numpy as np\n",
    "np.random.seed(2018)\n",
    "\n",
    "from sklearn.linear_model import LogisticRegression\n",
    "from sklearn.linear_model import SGDClassifier \n",
    "from sklearn.tree import DecisionTreeClassifier\n",
    "from sklearn.ensemble import RandomForestClassifier\n",
    "from sklearn.ensemble import ExtraTreesClassifier\n",
    "\n",
    "from sklearn.model_selection import cross_validate\n",
    "\n",
    "import xgboost as xgb\n",
    "\n",
    "import matplotlib.pyplot as plt\n",
    "%matplotlib inline"
   ]
  },
  {
   "cell_type": "code",
   "execution_count": 2,
   "metadata": {
    "collapsed": true
   },
   "outputs": [],
   "source": [
    "df_train = pd.read_csv('../input/train.csv')\n",
    "df_test = pd.read_csv('../input/test.csv')\n",
    "\n",
    "df_all = pd.concat([df_train, df_test])"
   ]
  },
  {
   "cell_type": "code",
   "execution_count": 3,
   "metadata": {},
   "outputs": [
    {
     "data": {
      "text/html": [
       "<div>\n",
       "<style>\n",
       "    .dataframe thead tr:only-child th {\n",
       "        text-align: right;\n",
       "    }\n",
       "\n",
       "    .dataframe thead th {\n",
       "        text-align: left;\n",
       "    }\n",
       "\n",
       "    .dataframe tbody tr th {\n",
       "        vertical-align: top;\n",
       "    }\n",
       "</style>\n",
       "<table border=\"1\" class=\"dataframe\">\n",
       "  <thead>\n",
       "    <tr style=\"text-align: right;\">\n",
       "      <th></th>\n",
       "      <th>PassengerId</th>\n",
       "      <th>Survived</th>\n",
       "      <th>Pclass</th>\n",
       "      <th>Name</th>\n",
       "      <th>Sex</th>\n",
       "      <th>Age</th>\n",
       "      <th>SibSp</th>\n",
       "      <th>Parch</th>\n",
       "      <th>Ticket</th>\n",
       "      <th>Fare</th>\n",
       "      <th>Cabin</th>\n",
       "      <th>Embarked</th>\n",
       "    </tr>\n",
       "  </thead>\n",
       "  <tbody>\n",
       "    <tr>\n",
       "      <th>438</th>\n",
       "      <td>439</td>\n",
       "      <td>0</td>\n",
       "      <td>1</td>\n",
       "      <td>Fortune, Mr. Mark</td>\n",
       "      <td>male</td>\n",
       "      <td>64.0</td>\n",
       "      <td>1</td>\n",
       "      <td>4</td>\n",
       "      <td>19950</td>\n",
       "      <td>263.0000</td>\n",
       "      <td>C23 C25 C27</td>\n",
       "      <td>S</td>\n",
       "    </tr>\n",
       "    <tr>\n",
       "      <th>283</th>\n",
       "      <td>284</td>\n",
       "      <td>1</td>\n",
       "      <td>3</td>\n",
       "      <td>Dorking, Mr. Edward Arthur</td>\n",
       "      <td>male</td>\n",
       "      <td>19.0</td>\n",
       "      <td>0</td>\n",
       "      <td>0</td>\n",
       "      <td>A/5. 10482</td>\n",
       "      <td>8.0500</td>\n",
       "      <td>NaN</td>\n",
       "      <td>S</td>\n",
       "    </tr>\n",
       "    <tr>\n",
       "      <th>607</th>\n",
       "      <td>608</td>\n",
       "      <td>1</td>\n",
       "      <td>1</td>\n",
       "      <td>Daniel, Mr. Robert Williams</td>\n",
       "      <td>male</td>\n",
       "      <td>27.0</td>\n",
       "      <td>0</td>\n",
       "      <td>0</td>\n",
       "      <td>113804</td>\n",
       "      <td>30.5000</td>\n",
       "      <td>NaN</td>\n",
       "      <td>S</td>\n",
       "    </tr>\n",
       "    <tr>\n",
       "      <th>153</th>\n",
       "      <td>154</td>\n",
       "      <td>0</td>\n",
       "      <td>3</td>\n",
       "      <td>van Billiard, Mr. Austin Blyler</td>\n",
       "      <td>male</td>\n",
       "      <td>40.5</td>\n",
       "      <td>0</td>\n",
       "      <td>2</td>\n",
       "      <td>A/5. 851</td>\n",
       "      <td>14.5000</td>\n",
       "      <td>NaN</td>\n",
       "      <td>S</td>\n",
       "    </tr>\n",
       "    <tr>\n",
       "      <th>177</th>\n",
       "      <td>178</td>\n",
       "      <td>0</td>\n",
       "      <td>1</td>\n",
       "      <td>Isham, Miss. Ann Elizabeth</td>\n",
       "      <td>female</td>\n",
       "      <td>50.0</td>\n",
       "      <td>0</td>\n",
       "      <td>0</td>\n",
       "      <td>PC 17595</td>\n",
       "      <td>28.7125</td>\n",
       "      <td>C49</td>\n",
       "      <td>C</td>\n",
       "    </tr>\n",
       "    <tr>\n",
       "      <th>783</th>\n",
       "      <td>784</td>\n",
       "      <td>0</td>\n",
       "      <td>3</td>\n",
       "      <td>Johnston, Mr. Andrew G</td>\n",
       "      <td>male</td>\n",
       "      <td>NaN</td>\n",
       "      <td>1</td>\n",
       "      <td>2</td>\n",
       "      <td>W./C. 6607</td>\n",
       "      <td>23.4500</td>\n",
       "      <td>NaN</td>\n",
       "      <td>S</td>\n",
       "    </tr>\n",
       "    <tr>\n",
       "      <th>482</th>\n",
       "      <td>483</td>\n",
       "      <td>0</td>\n",
       "      <td>3</td>\n",
       "      <td>Rouse, Mr. Richard Henry</td>\n",
       "      <td>male</td>\n",
       "      <td>50.0</td>\n",
       "      <td>0</td>\n",
       "      <td>0</td>\n",
       "      <td>A/5 3594</td>\n",
       "      <td>8.0500</td>\n",
       "      <td>NaN</td>\n",
       "      <td>S</td>\n",
       "    </tr>\n",
       "    <tr>\n",
       "      <th>582</th>\n",
       "      <td>583</td>\n",
       "      <td>0</td>\n",
       "      <td>2</td>\n",
       "      <td>Downton, Mr. William James</td>\n",
       "      <td>male</td>\n",
       "      <td>54.0</td>\n",
       "      <td>0</td>\n",
       "      <td>0</td>\n",
       "      <td>28403</td>\n",
       "      <td>26.0000</td>\n",
       "      <td>NaN</td>\n",
       "      <td>S</td>\n",
       "    </tr>\n",
       "    <tr>\n",
       "      <th>424</th>\n",
       "      <td>425</td>\n",
       "      <td>0</td>\n",
       "      <td>3</td>\n",
       "      <td>Rosblom, Mr. Viktor Richard</td>\n",
       "      <td>male</td>\n",
       "      <td>18.0</td>\n",
       "      <td>1</td>\n",
       "      <td>1</td>\n",
       "      <td>370129</td>\n",
       "      <td>20.2125</td>\n",
       "      <td>NaN</td>\n",
       "      <td>S</td>\n",
       "    </tr>\n",
       "    <tr>\n",
       "      <th>79</th>\n",
       "      <td>80</td>\n",
       "      <td>1</td>\n",
       "      <td>3</td>\n",
       "      <td>Dowdell, Miss. Elizabeth</td>\n",
       "      <td>female</td>\n",
       "      <td>30.0</td>\n",
       "      <td>0</td>\n",
       "      <td>0</td>\n",
       "      <td>364516</td>\n",
       "      <td>12.4750</td>\n",
       "      <td>NaN</td>\n",
       "      <td>S</td>\n",
       "    </tr>\n",
       "  </tbody>\n",
       "</table>\n",
       "</div>"
      ],
      "text/plain": [
       "     PassengerId  Survived  Pclass                             Name     Sex  \\\n",
       "438          439         0       1                Fortune, Mr. Mark    male   \n",
       "283          284         1       3       Dorking, Mr. Edward Arthur    male   \n",
       "607          608         1       1      Daniel, Mr. Robert Williams    male   \n",
       "153          154         0       3  van Billiard, Mr. Austin Blyler    male   \n",
       "177          178         0       1       Isham, Miss. Ann Elizabeth  female   \n",
       "783          784         0       3           Johnston, Mr. Andrew G    male   \n",
       "482          483         0       3         Rouse, Mr. Richard Henry    male   \n",
       "582          583         0       2       Downton, Mr. William James    male   \n",
       "424          425         0       3      Rosblom, Mr. Viktor Richard    male   \n",
       "79            80         1       3         Dowdell, Miss. Elizabeth  female   \n",
       "\n",
       "      Age  SibSp  Parch      Ticket      Fare        Cabin Embarked  \n",
       "438  64.0      1      4       19950  263.0000  C23 C25 C27        S  \n",
       "283  19.0      0      0  A/5. 10482    8.0500          NaN        S  \n",
       "607  27.0      0      0      113804   30.5000          NaN        S  \n",
       "153  40.5      0      2    A/5. 851   14.5000          NaN        S  \n",
       "177  50.0      0      0    PC 17595   28.7125          C49        C  \n",
       "783   NaN      1      2  W./C. 6607   23.4500          NaN        S  \n",
       "482  50.0      0      0    A/5 3594    8.0500          NaN        S  \n",
       "582  54.0      0      0       28403   26.0000          NaN        S  \n",
       "424  18.0      1      1      370129   20.2125          NaN        S  \n",
       "79   30.0      0      0      364516   12.4750          NaN        S  "
      ]
     },
     "execution_count": 3,
     "metadata": {},
     "output_type": "execute_result"
    }
   ],
   "source": [
    "df_train.sample(10)"
   ]
  },
  {
   "cell_type": "code",
   "execution_count": 4,
   "metadata": {},
   "outputs": [
    {
     "data": {
      "text/html": [
       "<div>\n",
       "<style>\n",
       "    .dataframe thead tr:only-child th {\n",
       "        text-align: right;\n",
       "    }\n",
       "\n",
       "    .dataframe thead th {\n",
       "        text-align: left;\n",
       "    }\n",
       "\n",
       "    .dataframe tbody tr th {\n",
       "        vertical-align: top;\n",
       "    }\n",
       "</style>\n",
       "<table border=\"1\" class=\"dataframe\">\n",
       "  <thead>\n",
       "    <tr style=\"text-align: right;\">\n",
       "      <th></th>\n",
       "      <th>PassengerId</th>\n",
       "      <th>Survived</th>\n",
       "      <th>Pclass</th>\n",
       "      <th>Age</th>\n",
       "      <th>SibSp</th>\n",
       "      <th>Parch</th>\n",
       "      <th>Fare</th>\n",
       "    </tr>\n",
       "  </thead>\n",
       "  <tbody>\n",
       "    <tr>\n",
       "      <th>0</th>\n",
       "      <td>1</td>\n",
       "      <td>0</td>\n",
       "      <td>3</td>\n",
       "      <td>22.0</td>\n",
       "      <td>1</td>\n",
       "      <td>0</td>\n",
       "      <td>7.2500</td>\n",
       "    </tr>\n",
       "    <tr>\n",
       "      <th>1</th>\n",
       "      <td>2</td>\n",
       "      <td>1</td>\n",
       "      <td>1</td>\n",
       "      <td>38.0</td>\n",
       "      <td>1</td>\n",
       "      <td>0</td>\n",
       "      <td>71.2833</td>\n",
       "    </tr>\n",
       "    <tr>\n",
       "      <th>2</th>\n",
       "      <td>3</td>\n",
       "      <td>1</td>\n",
       "      <td>3</td>\n",
       "      <td>26.0</td>\n",
       "      <td>0</td>\n",
       "      <td>0</td>\n",
       "      <td>7.9250</td>\n",
       "    </tr>\n",
       "    <tr>\n",
       "      <th>3</th>\n",
       "      <td>4</td>\n",
       "      <td>1</td>\n",
       "      <td>1</td>\n",
       "      <td>35.0</td>\n",
       "      <td>1</td>\n",
       "      <td>0</td>\n",
       "      <td>53.1000</td>\n",
       "    </tr>\n",
       "    <tr>\n",
       "      <th>4</th>\n",
       "      <td>5</td>\n",
       "      <td>0</td>\n",
       "      <td>3</td>\n",
       "      <td>35.0</td>\n",
       "      <td>0</td>\n",
       "      <td>0</td>\n",
       "      <td>8.0500</td>\n",
       "    </tr>\n",
       "  </tbody>\n",
       "</table>\n",
       "</div>"
      ],
      "text/plain": [
       "   PassengerId  Survived  Pclass   Age  SibSp  Parch     Fare\n",
       "0            1         0       3  22.0      1      0   7.2500\n",
       "1            2         1       1  38.0      1      0  71.2833\n",
       "2            3         1       3  26.0      0      0   7.9250\n",
       "3            4         1       1  35.0      1      0  53.1000\n",
       "4            5         0       3  35.0      0      0   8.0500"
      ]
     },
     "execution_count": 4,
     "metadata": {},
     "output_type": "execute_result"
    }
   ],
   "source": [
    "df_train.select_dtypes(include=[np.int, np.float]).head()"
   ]
  },
  {
   "cell_type": "code",
   "execution_count": 5,
   "metadata": {
    "collapsed": true
   },
   "outputs": [],
   "source": [
    "def get_feats(df):\n",
    "    feats = df.select_dtypes(include=[np.int64]).columns.values\n",
    "    black_list = ['PassengerId', 'Survived']\n",
    "    \n",
    "    return [feat for feat in feats if feat not in black_list]\n",
    "\n",
    "\n",
    "def feature_engineering(df):\n",
    "    df['sex_cat'] = pd.factorize( df['Sex'] )[0]\n",
    "    df['embarked_cat'] = pd.factorize( df['Embarked'] )[0]\n",
    "    \n",
    "    return df\n",
    "\n",
    "def get_models():\n",
    "    return [\n",
    "        ('lr', LogisticRegression()),\n",
    "        ('dt', DecisionTreeClassifier()),\n",
    "        ('rf', RandomForestClassifier()),\n",
    "        ('et', ExtraTreesClassifier()),\n",
    "    ]"
   ]
  },
  {
   "cell_type": "code",
   "execution_count": 6,
   "metadata": {
    "collapsed": true
   },
   "outputs": [],
   "source": [
    "def plot_result(model_name, result, ylim=(0, 1.)):\n",
    "    mean_train = np.round( np.mean(result['train_score']), 2 )\n",
    "    mean_test = np.round( np.mean(result['test_score']), 2 )\n",
    "    \n",
    "    plt.title('{0}: cross validation\\nmean-train-acc:{1}\\nmean-test-acc:{2}'.format(model_name, mean_train, mean_test))\n",
    "    plt.plot( result['train_score'], 'r-o', label=\"train\" )\n",
    "    plt.plot( result['test_score'], 'g-o', label=\"test\" )\n",
    "    plt.legend(loc='best')\n",
    "    plt.ylabel('Accuracy')\n",
    "    plt.xlabel('# of fold')\n",
    "    plt.ylim(*ylim)\n",
    "    plt.show()"
   ]
  },
  {
   "cell_type": "code",
   "execution_count": 7,
   "metadata": {},
   "outputs": [
    {
     "name": "stdout",
     "output_type": "stream",
     "text": [
      "lr\n"
     ]
    },
    {
     "name": "stderr",
     "output_type": "stream",
     "text": [
      "/Users/vova/miniconda3/lib/python3.6/site-packages/sklearn/utils/deprecation.py:122: FutureWarning: You are accessing a training score ('train_score'), which will not be available by default any more in 0.21. If you need training scores, please set return_train_score=True\n",
      "  warnings.warn(*warn_args, **warn_kwargs)\n"
     ]
    },
    {
     "data": {
      "image/png": "[encoded data removed]",
      "text/plain": [
       "<matplotlib.figure.Figure at 0x10db7c208>"
      ]
     },
     "metadata": {},
     "output_type": "display_data"
    },
    {
     "name": "stdout",
     "output_type": "stream",
     "text": [
      "dt\n"
     ]
    },
    {
     "name": "stderr",
     "output_type": "stream",
     "text": [
      "/Users/vova/miniconda3/lib/python3.6/site-packages/sklearn/utils/deprecation.py:122: FutureWarning: You are accessing a training score ('train_score'), which will not be available by default any more in 0.21. If you need training scores, please set return_train_score=True\n",
      "  warnings.warn(*warn_args, **warn_kwargs)\n"
     ]
    },
    {
     "data": {
      "image/png": "[encoded data removed]",
      "text/plain": [
       "<matplotlib.figure.Figure at 0x10dd98f98>"
      ]
     },
     "metadata": {},
     "output_type": "display_data"
    },
    {
     "name": "stdout",
     "output_type": "stream",
     "text": [
      "rf\n"
     ]
    },
    {
     "name": "stderr",
     "output_type": "stream",
     "text": [
      "/Users/vova/miniconda3/lib/python3.6/site-packages/sklearn/utils/deprecation.py:122: FutureWarning: You are accessing a training score ('train_score'), which will not be available by default any more in 0.21. If you need training scores, please set return_train_score=True\n",
      "  warnings.warn(*warn_args, **warn_kwargs)\n"
     ]
    },
    {
     "data": {
      "image/png": "[encoded data removed]",
      "text/plain": [
       "<matplotlib.figure.Figure at 0x10dee61d0>"
      ]
     },
     "metadata": {},
     "output_type": "display_data"
    },
    {
     "name": "stdout",
     "output_type": "stream",
     "text": [
      "et\n"
     ]
    },
    {
     "name": "stderr",
     "output_type": "stream",
     "text": [
      "/Users/vova/miniconda3/lib/python3.6/site-packages/sklearn/utils/deprecation.py:122: FutureWarning: You are accessing a training score ('train_score'), which will not be available by default any more in 0.21. If you need training scores, please set return_train_score=True\n",
      "  warnings.warn(*warn_args, **warn_kwargs)\n"
     ]
    },
    {
     "data": {
      "image/png": "[encoded data removed]",
      "text/plain": [
       "<matplotlib.figure.Figure at 0x10dfbc390>"
      ]
     },
     "metadata": {},
     "output_type": "display_data"
    }
   ],
   "source": [
    "df = feature_engineering(df_train)\n",
    "get_feats(df)\n",
    "\n",
    "X = df_train[ get_feats(df_train) ].values\n",
    "y = df_train[ 'Survived' ].values\n",
    "\n",
    "for model_name, model in get_models():\n",
    "    result = cross_validate(model, X, y, scoring='accuracy', cv=3)\n",
    "    print(model_name)\n",
    "\n",
    "    plot_result(model_name, result)"
   ]
  },
  {
   "cell_type": "code",
   "execution_count": 8,
   "metadata": {
    "collapsed": true
   },
   "outputs": [],
   "source": [
    "def make_prediction(df_train, df_test, model, output_file_name):\n",
    "    train = feature_engineering(df_train)\n",
    "    test = feature_engineering(df_test)\n",
    "\n",
    "    feats = get_feats(train)\n",
    "\n",
    "    X_train = train[feats].values\n",
    "    y_train = train['Survived'].values\n",
    "    X_test = test[feats]\n",
    "\n",
    "    print(model)\n",
    "    model.fit(X_train, y_train)\n",
    "\n",
    "    test['Survived'] = model.predict(X_test)\n",
    "    test[ ['PassengerId', 'Survived'] ].to_csv('../output/' + output_file_name, index=False)"
   ]
  },
  {
   "cell_type": "markdown",
   "metadata": {},
   "source": [
    "## Linear Model"
   ]
  },
  {
   "cell_type": "code",
   "execution_count": 9,
   "metadata": {},
   "outputs": [
    {
     "name": "stdout",
     "output_type": "stream",
     "text": [
      "LogisticRegression(C=1.0, class_weight=None, dual=False, fit_intercept=True,\n",
      "          intercept_scaling=1, max_iter=100, multi_class='ovr', n_jobs=1,\n",
      "          penalty='l2', random_state=None, solver='liblinear', tol=0.0001,\n",
      "          verbose=0, warm_start=False)\n"
     ]
    }
   ],
   "source": [
    "make_prediction(df_train, df_test, LogisticRegression(), 'linear.csv')"
   ]
  },
  {
   "cell_type": "markdown",
   "metadata": {},
   "source": [
    "![](../images/kaggle_076.png)"
   ]
  },
  {
   "cell_type": "markdown",
   "metadata": {},
   "source": [
    "### Random Forest"
   ]
  },
  {
   "cell_type": "code",
   "execution_count": 10,
   "metadata": {},
   "outputs": [
    {
     "data": {
      "image/png": "[encoded data removed]",
      "text/plain": [
       "<matplotlib.figure.Figure at 0x115822898>"
      ]
     },
     "metadata": {},
     "output_type": "display_data"
    },
    {
     "data": {
      "image/png": "[encoded data removed]",
      "text/plain": [
       "<matplotlib.figure.Figure at 0x115ae9860>"
      ]
     },
     "metadata": {},
     "output_type": "display_data"
    },
    {
     "data": {
      "image/png": "[encoded data removed]",
      "text/plain": [
       "<matplotlib.figure.Figure at 0x115779978>"
      ]
     },
     "metadata": {},
     "output_type": "display_data"
    },
    {
     "data": {
      "image/png": "[encoded data removed]",
      "text/plain": [
       "<matplotlib.figure.Figure at 0x115d06710>"
      ]
     },
     "metadata": {},
     "output_type": "display_data"
    }
   ],
   "source": [
    "for max_depth in range(2, 10, 2):\n",
    "    model = RandomForestClassifier(max_depth=max_depth, n_estimators=15)\n",
    "    result = cross_validate(model, X, y, scoring='accuracy', cv=3)\n",
    "    plot_result(\"Decision Tree: max_depth=%s\" % max_depth, result)"
   ]
  },
  {
   "cell_type": "code",
   "execution_count": 11,
   "metadata": {},
   "outputs": [
    {
     "data": {
      "image/png": "[encoded data removed]",
      "text/plain": [
       "<matplotlib.figure.Figure at 0x115c6a940>"
      ]
     },
     "metadata": {},
     "output_type": "display_data"
    },
    {
     "data": {
      "image/png": "[encoded data removed]",
      "text/plain": [
       "<matplotlib.figure.Figure at 0x115ca5320>"
      ]
     },
     "metadata": {},
     "output_type": "display_data"
    },
    {
     "data": {
      "image/png": "[encoded data removed]",
      "text/plain": [
       "<matplotlib.figure.Figure at 0x115ca5080>"
      ]
     },
     "metadata": {},
     "output_type": "display_data"
    }
   ],
   "source": [
    "for max_depth in range(3, 6, 1):\n",
    "    model = RandomForestClassifier(max_depth=max_depth, n_estimators=15)\n",
    "    result = cross_validate(model, X, y, scoring='accuracy', cv=3)\n",
    "    plot_result(\"Decision Tree: max_depth=%s\" % max_depth, result)"
   ]
  },
  {
   "cell_type": "code",
   "execution_count": 12,
   "metadata": {},
   "outputs": [
    {
     "name": "stdout",
     "output_type": "stream",
     "text": [
      "RandomForestClassifier(bootstrap=True, class_weight=None, criterion='gini',\n",
      "            max_depth=4, max_features='auto', max_leaf_nodes=None,\n",
      "            min_impurity_decrease=0.0, min_impurity_split=None,\n",
      "            min_samples_leaf=1, min_samples_split=2,\n",
      "            min_weight_fraction_leaf=0.0, n_estimators=15, n_jobs=1,\n",
      "            oob_score=False, random_state=2018, verbose=0,\n",
      "            warm_start=False)\n"
     ]
    }
   ],
   "source": [
    "model = RandomForestClassifier(max_depth=4, n_estimators=15, random_state=2018)\n",
    "make_prediction(df_train, df_test, model, 'rf_md4_ne15.csv')"
   ]
  },
  {
   "cell_type": "markdown",
   "metadata": {},
   "source": [
    "![](../images/kaggle_rf_simple.png)"
   ]
  },
  {
   "cell_type": "code",
   "execution_count": null,
   "metadata": {
    "collapsed": true
   },
   "outputs": [],
   "source": []
  },
  {
   "cell_type": "markdown",
   "metadata": {},
   "source": [
    "## Feature Engineering"
   ]
  },
  {
   "cell_type": "markdown",
   "metadata": {},
   "source": [
    "### Titles"
   ]
  },
  {
   "cell_type": "code",
   "execution_count": 80,
   "metadata": {},
   "outputs": [
    {
     "data": {
      "text/plain": [
       " mr              517\n",
       " miss            182\n",
       " mrs             125\n",
       " master           40\n",
       " dr                7\n",
       " rev               6\n",
       " col               2\n",
       " mlle              2\n",
       " major             2\n",
       " the countess      1\n",
       " don               1\n",
       " mme               1\n",
       " sir               1\n",
       " capt              1\n",
       " lady              1\n",
       " jonkheer          1\n",
       " ms                1\n",
       "Name: Name, dtype: int64"
      ]
     },
     "execution_count": 80,
     "metadata": {},
     "output_type": "execute_result"
    }
   ],
   "source": [
    "df_train['Name'].map(lambda x: x.split(',')[1].split('.')[0].lower() ).value_counts()"
   ]
  },
  {
   "cell_type": "code",
   "execution_count": 90,
   "metadata": {},
   "outputs": [
    {
     "data": {
      "text/plain": [
       " mr        240\n",
       " miss       78\n",
       " mrs        72\n",
       " master     21\n",
       " rev         2\n",
       " col         2\n",
       " ms          1\n",
       " dr          1\n",
       " dona        1\n",
       "Name: Name, dtype: int64"
      ]
     },
     "execution_count": 90,
     "metadata": {},
     "output_type": "execute_result"
    }
   ],
   "source": [
    "df_test['Name'].map(lambda x: x.split(',')[1].split('.')[0].lower() ).value_counts()"
   ]
  },
  {
   "cell_type": "code",
   "execution_count": 91,
   "metadata": {},
   "outputs": [
    {
     "data": {
      "text/plain": [
       " mr              757\n",
       " miss            260\n",
       " mrs             197\n",
       " master           61\n",
       " rev               8\n",
       " dr                8\n",
       " col               4\n",
       " ms                2\n",
       " mlle              2\n",
       " major             2\n",
       " jonkheer          1\n",
       " don               1\n",
       " lady              1\n",
       " sir               1\n",
       " capt              1\n",
       " mme               1\n",
       " the countess      1\n",
       " dona              1\n",
       "Name: Name, dtype: int64"
      ]
     },
     "execution_count": 91,
     "metadata": {},
     "output_type": "execute_result"
    }
   ],
   "source": [
    "df_all['Name'].map(lambda x: x.split(',')[1].split('.')[0].lower() ).value_counts()"
   ]
  },
  {
   "cell_type": "code",
   "execution_count": 16,
   "metadata": {},
   "outputs": [
    {
     "data": {
      "text/plain": [
       "mr        757\n",
       "miss      260\n",
       "mrs       197\n",
       "master     61\n",
       "other      18\n",
       "dr          8\n",
       "rev         8\n",
       "Name: Name, dtype: int64"
      ]
     },
     "execution_count": 16,
     "metadata": {},
     "output_type": "execute_result"
    }
   ],
   "source": [
    "popular_titles = [\"mr\", \"miss\", \"mrs\", \"master\", \"dr\", \"rev\"]\n",
    "df_all['Name'].map(lambda x: x.split(',')[1].split('.')[0].lower().strip() ).map(lambda x: x if x in popular_titles else \"other\").value_counts()"
   ]
  },
  {
   "cell_type": "code",
   "execution_count": 17,
   "metadata": {
    "collapsed": true
   },
   "outputs": [],
   "source": [
    "def feature_title(df):\n",
    "    df['title'] = df['Name'].map(lambda x: x.split(',')[1].split('.')[0].lower().strip() )\n",
    "    popular_titles = [\"mr\", \"miss\", \"mrs\", \"master\", \"dr\", \"rev\"]\n",
    "    df['title_norm'] = df['title'].map(lambda x: x if x in popular_titles else \"other\")\n",
    "    df['title_norm_cat'] = pd.factorize( df['title_norm'] )[0]\n",
    "    \n",
    "    return df"
   ]
  },
  {
   "cell_type": "code",
   "execution_count": 18,
   "metadata": {},
   "outputs": [
    {
     "data": {
      "text/plain": [
       "mr        757\n",
       "miss      260\n",
       "mrs       197\n",
       "master     61\n",
       "other      18\n",
       "dr          8\n",
       "rev         8\n",
       "Name: title_norm, dtype: int64"
      ]
     },
     "execution_count": 18,
     "metadata": {},
     "output_type": "execute_result"
    }
   ],
   "source": [
    "df = feature_title(df_all)\n",
    "df['title_norm'].value_counts()"
   ]
  },
  {
   "cell_type": "markdown",
   "metadata": {},
   "source": [
    "### Cabin"
   ]
  },
  {
   "cell_type": "code",
   "execution_count": 19,
   "metadata": {},
   "outputs": [
    {
     "data": {
      "text/plain": [
       "missing    1014\n",
       "C            94\n",
       "B            65\n",
       "D            46\n",
       "E            41\n",
       "A            22\n",
       "F            21\n",
       "G             5\n",
       "T             1\n",
       "Name: Cabin, dtype: int64"
      ]
     },
     "execution_count": 19,
     "metadata": {},
     "output_type": "execute_result"
    }
   ],
   "source": [
    "df_all['Cabin'].map(lambda x: 'missing' if str(x) == 'nan' else x[0] ).value_counts()"
   ]
  },
  {
   "cell_type": "markdown",
   "metadata": {},
   "source": [
    "### Family relationships"
   ]
  },
  {
   "cell_type": "code",
   "execution_count": 20,
   "metadata": {},
   "outputs": [
    {
     "data": {
      "text/plain": [
       "0     790\n",
       "1     235\n",
       "2     159\n",
       "3      43\n",
       "5      25\n",
       "4      22\n",
       "6      16\n",
       "10     11\n",
       "7       8\n",
       "dtype: int64"
      ]
     },
     "execution_count": 20,
     "metadata": {},
     "output_type": "execute_result"
    }
   ],
   "source": [
    "df_all.apply(lambda x: x['Parch'] + x['SibSp'], axis=1).value_counts()"
   ]
  },
  {
   "cell_type": "code",
   "execution_count": 21,
   "metadata": {
    "collapsed": true
   },
   "outputs": [],
   "source": [
    "#df_train.apply(lambda x: 'nofamily' if x['Parch'] + x['SibSp'] == 0 else '{0}-{1}'.format(x['Name'].split(',')[0].strip(), x['Parch'] + x['SibSp']), axis=1).value_counts()"
   ]
  },
  {
   "cell_type": "markdown",
   "metadata": {},
   "source": [
    "### Age"
   ]
  },
  {
   "cell_type": "code",
   "execution_count": 22,
   "metadata": {},
   "outputs": [
    {
     "name": "stdout",
     "output_type": "stream",
     "text": [
      "(1309, 15)\n"
     ]
    },
    {
     "data": {
      "text/plain": [
       "count    1046.000000\n",
       "mean       29.881138\n",
       "std        14.413493\n",
       "min         0.170000\n",
       "25%        21.000000\n",
       "50%        28.000000\n",
       "75%        39.000000\n",
       "max        80.000000\n",
       "Name: Age, dtype: float64"
      ]
     },
     "execution_count": 22,
     "metadata": {},
     "output_type": "execute_result"
    }
   ],
   "source": [
    "print(df_all.shape)\n",
    "df_all.Age.describe()"
   ]
  },
  {
   "cell_type": "code",
   "execution_count": 23,
   "metadata": {
    "collapsed": true
   },
   "outputs": [],
   "source": [
    "df = feature_title(df_all)\n",
    "missing_ages = df.groupby('title_norm')['Age'].agg([np.mean, np.median]).to_dict()['median']\n",
    "df['Age'] = df.apply( lambda x: x['Age'] if str(x['Age']) != 'nan' else missing_ages[x['title_norm']], axis=1 )"
   ]
  },
  {
   "cell_type": "code",
   "execution_count": 24,
   "metadata": {},
   "outputs": [
    {
     "data": {
      "text/plain": [
       "(20, 40]     824\n",
       "(40, 60]     196\n",
       "(15, 20]     133\n",
       "(9, 15]       33\n",
       "(60, 100]     33\n",
       "(5, 9]        26\n",
       "(3, 5]        23\n",
       "(0, 1]        22\n",
       "(1, 3]        19\n",
       "Name: Age, dtype: int64"
      ]
     },
     "execution_count": 24,
     "metadata": {},
     "output_type": "execute_result"
    }
   ],
   "source": [
    "age_bins = [0, 1, 3, 5, 9, 15, 20, 40, 60, 100]\n",
    "pd.cut(df[\"Age\"], bins=age_bins).astype(object).value_counts()"
   ]
  },
  {
   "cell_type": "markdown",
   "metadata": {},
   "source": [
    "### Fare"
   ]
  },
  {
   "cell_type": "code",
   "execution_count": 50,
   "metadata": {},
   "outputs": [
    {
     "name": "stdout",
     "output_type": "stream",
     "text": [
      "(1309, 23)\n"
     ]
    },
    {
     "data": {
      "text/plain": [
       "count    1308.000000\n",
       "mean       33.295479\n",
       "std        51.758668\n",
       "min         0.000000\n",
       "25%         7.895800\n",
       "50%        14.454200\n",
       "75%        31.275000\n",
       "max       512.329200\n",
       "Name: Fare, dtype: float64"
      ]
     },
     "execution_count": 50,
     "metadata": {},
     "output_type": "execute_result"
    }
   ],
   "source": [
    "print(df_all.shape)\n",
    "df_all['Fare'].describe()"
   ]
  },
  {
   "cell_type": "code",
   "execution_count": 26,
   "metadata": {},
   "outputs": [
    {
     "data": {
      "image/png": "[encoded data removed]",
      "text/plain": [
       "<matplotlib.figure.Figure at 0x115e17cf8>"
      ]
     },
     "metadata": {},
     "output_type": "display_data"
    }
   ],
   "source": [
    "df_all['Fare'].hist(bins=100);"
   ]
  },
  {
   "cell_type": "code",
   "execution_count": 27,
   "metadata": {},
   "outputs": [
    {
     "data": {
      "text/plain": [
       "<matplotlib.axes._subplots.AxesSubplot at 0x115c9bda0>"
      ]
     },
     "execution_count": 27,
     "metadata": {},
     "output_type": "execute_result"
    },
    {
     "data": {
      "image/png": "[encoded data removed]",
      "text/plain": [
       "<matplotlib.figure.Figure at 0x112caa710>"
      ]
     },
     "metadata": {},
     "output_type": "display_data"
    }
   ],
   "source": [
    "np.log2( df_all['Fare'] + 1 ).hist(bins=100)"
   ]
  },
  {
   "cell_type": "markdown",
   "metadata": {},
   "source": [
    "## Cabin"
   ]
  },
  {
   "cell_type": "code",
   "execution_count": 60,
   "metadata": {},
   "outputs": [
    {
     "data": {
      "text/plain": [
       "missing    1014\n",
       "C            94\n",
       "B            65\n",
       "D            46\n",
       "E            41\n",
       "A            22\n",
       "F            21\n",
       "G             5\n",
       "T             1\n",
       "Name: cabin_norm, dtype: int64"
      ]
     },
     "execution_count": 60,
     "metadata": {},
     "output_type": "execute_result"
    }
   ],
   "source": [
    "df = df_all.copy()\n",
    "\n",
    "df['Cabin'].unique()\n",
    "df['cabin_norm'] = df['Cabin'].map(lambda x: 'missing' if str(x) == 'nan' else x[0] )\n",
    "\n",
    "df.cabin_norm.value_counts()"
   ]
  },
  {
   "cell_type": "markdown",
   "metadata": {},
   "source": []
  },
  {
   "cell_type": "code",
   "execution_count": null,
   "metadata": {
    "collapsed": true
   },
   "outputs": [],
   "source": []
  },
  {
   "cell_type": "code",
   "execution_count": 47,
   "metadata": {
    "collapsed": true
   },
   "outputs": [],
   "source": [
    "def feature_engineering(df):\n",
    "    df['sex_cat'] = pd.factorize( df['Sex'] )[0]\n",
    "    df['embarked_cat'] = pd.factorize( df['Embarked'] )[0]\n",
    "    \n",
    "    df = feature_title(df)\n",
    "    \n",
    "    df['cabin_norm'] = df['Cabin'].map(lambda x: 'missing' if str(x) == 'nan' else x[0] )\n",
    "    df['cabin_norm_cat'] = pd.factorize( df['cabin_norm'] )[0]\n",
    "    \n",
    "    df['family_size'] = df.apply(lambda x: x['Parch'] + x['SibSp'], axis=1)\n",
    "    df[\"single\"] = df[\"family_size\"].apply(lambda x: 1 if x == 0 else 0)\n",
    "\n",
    "    df['fare_log'] = np.log2( df['Fare'] + 1 )\n",
    "    \n",
    "    missing_ages = df.groupby('title_norm')['Age'].agg([np.mean, np.median]).to_dict()['median']\n",
    "    df['Age'] = df.apply( lambda x: x['Age'] if str(x['Age']) != 'nan' else missing_ages[x['title_norm']], axis=1 )\n",
    "    \n",
    "    age_bins = [0, 1, 3, 5, 9, 15, 20, 40, 60, 100]\n",
    "    df['age_bin'] = pd.factorize( pd.cut(df[\"Age\"], bins=age_bins).astype(object) )[0]\n",
    "\n",
    "    return df"
   ]
  },
  {
   "cell_type": "code",
   "execution_count": 48,
   "metadata": {
    "collapsed": true
   },
   "outputs": [],
   "source": [
    "# df_train = pd.read_csv('../input/train.csv')\n",
    "# df_test = pd.read_csv('../input/test.csv')\n",
    "\n",
    "# df_all = pd.concat([df_train, df_test])"
   ]
  },
  {
   "cell_type": "code",
   "execution_count": 49,
   "metadata": {},
   "outputs": [
    {
     "name": "stdout",
     "output_type": "stream",
     "text": [
      "['Parch', 'Pclass', 'SibSp', 'title_norm_cat', 'sex_cat', 'embarked_cat', 'cabin_norm_cat', 'family_size', 'age_bin', 'single']\n",
      "lr\n"
     ]
    },
    {
     "data": {
      "image/png": "[encoded data removed]",
      "text/plain": [
       "<matplotlib.figure.Figure at 0x115cf9438>"
      ]
     },
     "metadata": {},
     "output_type": "display_data"
    },
    {
     "name": "stdout",
     "output_type": "stream",
     "text": [
      "dt\n"
     ]
    },
    {
     "data": {
      "image/png": "[encoded data removed]",
      "text/plain": [
       "<matplotlib.figure.Figure at 0x115a383c8>"
      ]
     },
     "metadata": {},
     "output_type": "display_data"
    },
    {
     "name": "stdout",
     "output_type": "stream",
     "text": [
      "rf\n"
     ]
    },
    {
     "data": {
      "image/png": "[encoded data removed]",
      "text/plain": [
       "<matplotlib.figure.Figure at 0x115915ef0>"
      ]
     },
     "metadata": {},
     "output_type": "display_data"
    },
    {
     "name": "stdout",
     "output_type": "stream",
     "text": [
      "et\n"
     ]
    },
    {
     "data": {
      "image/png": "[encoded data removed]",
      "text/plain": [
       "<matplotlib.figure.Figure at 0x1156e8160>"
      ]
     },
     "metadata": {},
     "output_type": "display_data"
    }
   ],
   "source": [
    "df = feature_engineering(df_all)\n",
    "feats = get_feats(df)\n",
    "print(feats)\n",
    "\n",
    "train = df[ ~df.Survived.isnull() ]\n",
    "\n",
    "X = train[ feats ].values\n",
    "y = train[ 'Survived' ].values\n",
    "\n",
    "for model_name, model in get_models():\n",
    "    result = cross_validate(model, X, y, scoring='accuracy', cv=3)\n",
    "    print(model_name)\n",
    "\n",
    "    plot_result(model_name, result)"
   ]
  },
  {
   "cell_type": "markdown",
   "metadata": {},
   "source": [
    "### Random Forest"
   ]
  },
  {
   "cell_type": "code",
   "execution_count": 31,
   "metadata": {},
   "outputs": [
    {
     "data": {
      "image/png": "[encoded data removed]",
      "text/plain": [
       "<matplotlib.figure.Figure at 0x115afa898>"
      ]
     },
     "metadata": {},
     "output_type": "display_data"
    },
    {
     "data": {
      "image/png": "[encoded data removed]",
      "text/plain": [
       "<matplotlib.figure.Figure at 0x115893b00>"
      ]
     },
     "metadata": {},
     "output_type": "display_data"
    },
    {
     "data": {
      "image/png": "[encoded data removed]",
      "text/plain": [
       "<matplotlib.figure.Figure at 0x115db5128>"
      ]
     },
     "metadata": {},
     "output_type": "display_data"
    },
    {
     "data": {
      "image/png": "[encoded data removed]",
      "text/plain": [
       "<matplotlib.figure.Figure at 0x115864828>"
      ]
     },
     "metadata": {},
     "output_type": "display_data"
    }
   ],
   "source": [
    "for max_depth in range(2, 6, 1):\n",
    "    model = RandomForestClassifier(max_depth=max_depth, n_estimators=20, min_samples_leaf=8, random_state=2018)\n",
    "    result = cross_validate(model, X, y, scoring='accuracy', cv=3)\n",
    "    plot_result(\"Random Forest: max_depth=%s\" % max_depth, result, ylim=(0.7, 0.9))"
   ]
  },
  {
   "cell_type": "code",
   "execution_count": 33,
   "metadata": {},
   "outputs": [
    {
     "name": "stdout",
     "output_type": "stream",
     "text": [
      "RandomForestClassifier(bootstrap=True, class_weight=None, criterion='gini',\n",
      "            max_depth=4, max_features='auto', max_leaf_nodes=None,\n",
      "            min_impurity_decrease=0.0, min_impurity_split=None,\n",
      "            min_samples_leaf=8, min_samples_split=2,\n",
      "            min_weight_fraction_leaf=0.0, n_estimators=20, n_jobs=1,\n",
      "            oob_score=False, random_state=2018, verbose=0,\n",
      "            warm_start=False)\n"
     ]
    }
   ],
   "source": [
    "df_train, df_test = df_all[ ~df.Survived.isnull() ].copy(), df[ df.Survived.isnull() ].copy()\n",
    "\n",
    "model = model = RandomForestClassifier(max_depth=4, n_estimators=20, min_samples_leaf=8, random_state=2018)\n",
    "make_prediction(df_train, df_test, model, 'rf_md4_ne20_sl8_fe.csv')"
   ]
  },
  {
   "cell_type": "markdown",
   "metadata": {},
   "source": [
    "![](../images/kaggle_078.png)"
   ]
  },
  {
   "cell_type": "code",
   "execution_count": null,
   "metadata": {
    "collapsed": true
   },
   "outputs": [],
   "source": []
  },
  {
   "cell_type": "code",
   "execution_count": null,
   "metadata": {
    "collapsed": true
   },
   "outputs": [],
   "source": []
  },
  {
   "cell_type": "markdown",
   "metadata": {},
   "source": [
    "## Ticket"
   ]
  },
  {
   "cell_type": "code",
   "execution_count": 61,
   "metadata": {},
   "outputs": [
    {
     "data": {
      "text/plain": [
       "CA. 2343            11\n",
       "CA 2144              8\n",
       "1601                 8\n",
       "347077               7\n",
       "S.O.C. 14879         7\n",
       "3101295              7\n",
       "PC 17608             7\n",
       "347082               7\n",
       "113781               6\n",
       "347088               6\n",
       "382652               6\n",
       "19950                6\n",
       "113503               5\n",
       "349909               5\n",
       "PC 17757             5\n",
       "W./C. 6608           5\n",
       "4133                 5\n",
       "16966                5\n",
       "220845               5\n",
       "SC/Paris 2123        4\n",
       "C.A. 33112           4\n",
       "113760               4\n",
       "PC 17483             4\n",
       "LINE                 4\n",
       "W./C. 6607           4\n",
       "36928                4\n",
       "2666                 4\n",
       "24160                4\n",
       "C.A. 2315            4\n",
       "230136               4\n",
       "                    ..\n",
       "2624                 1\n",
       "32302                1\n",
       "324669               1\n",
       "2681                 1\n",
       "21332                1\n",
       "372622               1\n",
       "SOTON/O2 3101284     1\n",
       "315084               1\n",
       "248706               1\n",
       "350054               1\n",
       "SOTON/O2 3101287     1\n",
       "349220               1\n",
       "65303                1\n",
       "65306                1\n",
       "347062               1\n",
       "250650               1\n",
       "330877               1\n",
       "315095               1\n",
       "SOTON/OQ 3101316     1\n",
       "226593               1\n",
       "347081               1\n",
       "349208               1\n",
       "248740               1\n",
       "239059               1\n",
       "211535               1\n",
       "W./C. 14263          1\n",
       "2657                 1\n",
       "2629                 1\n",
       "3410                 1\n",
       "349202               1\n",
       "Name: Ticket, Length: 929, dtype: int64"
      ]
     },
     "execution_count": 61,
     "metadata": {},
     "output_type": "execute_result"
    }
   ],
   "source": [
    "df['Ticket'].value_counts()"
   ]
  },
  {
   "cell_type": "code",
   "execution_count": 94,
   "metadata": {},
   "outputs": [
    {
     "data": {
      "text/html": [
       "<div>\n",
       "<style>\n",
       "    .dataframe thead tr:only-child th {\n",
       "        text-align: right;\n",
       "    }\n",
       "\n",
       "    .dataframe thead th {\n",
       "        text-align: left;\n",
       "    }\n",
       "\n",
       "    .dataframe tbody tr th {\n",
       "        vertical-align: top;\n",
       "    }\n",
       "</style>\n",
       "<table border=\"1\" class=\"dataframe\">\n",
       "  <thead>\n",
       "    <tr style=\"text-align: right;\">\n",
       "      <th></th>\n",
       "      <th>Age</th>\n",
       "      <th>Cabin</th>\n",
       "      <th>Embarked</th>\n",
       "      <th>Fare</th>\n",
       "      <th>Name</th>\n",
       "      <th>Parch</th>\n",
       "      <th>PassengerId</th>\n",
       "      <th>Pclass</th>\n",
       "      <th>Sex</th>\n",
       "      <th>SibSp</th>\n",
       "      <th>...</th>\n",
       "      <th>title_norm</th>\n",
       "      <th>title_norm_cat</th>\n",
       "      <th>sex_cat</th>\n",
       "      <th>embarked_cat</th>\n",
       "      <th>cabin_norm</th>\n",
       "      <th>cabin_norm_cat</th>\n",
       "      <th>family_size</th>\n",
       "      <th>fare_log</th>\n",
       "      <th>age_bin</th>\n",
       "      <th>single</th>\n",
       "    </tr>\n",
       "  </thead>\n",
       "  <tbody>\n",
       "    <tr>\n",
       "      <th>159</th>\n",
       "      <td>4.0</td>\n",
       "      <td>NaN</td>\n",
       "      <td>S</td>\n",
       "      <td>69.55</td>\n",
       "      <td>Sage, Master. Thomas Henry</td>\n",
       "      <td>2</td>\n",
       "      <td>160</td>\n",
       "      <td>3</td>\n",
       "      <td>male</td>\n",
       "      <td>8</td>\n",
       "      <td>...</td>\n",
       "      <td>master</td>\n",
       "      <td>3</td>\n",
       "      <td>0</td>\n",
       "      <td>0</td>\n",
       "      <td>missing</td>\n",
       "      <td>0</td>\n",
       "      <td>10</td>\n",
       "      <td>6.140574</td>\n",
       "      <td>4</td>\n",
       "      <td>0</td>\n",
       "    </tr>\n",
       "    <tr>\n",
       "      <th>180</th>\n",
       "      <td>22.0</td>\n",
       "      <td>NaN</td>\n",
       "      <td>S</td>\n",
       "      <td>69.55</td>\n",
       "      <td>Sage, Miss. Constance Gladys</td>\n",
       "      <td>2</td>\n",
       "      <td>181</td>\n",
       "      <td>3</td>\n",
       "      <td>female</td>\n",
       "      <td>8</td>\n",
       "      <td>...</td>\n",
       "      <td>miss</td>\n",
       "      <td>2</td>\n",
       "      <td>1</td>\n",
       "      <td>0</td>\n",
       "      <td>missing</td>\n",
       "      <td>0</td>\n",
       "      <td>10</td>\n",
       "      <td>6.140574</td>\n",
       "      <td>0</td>\n",
       "      <td>0</td>\n",
       "    </tr>\n",
       "    <tr>\n",
       "      <th>201</th>\n",
       "      <td>29.0</td>\n",
       "      <td>NaN</td>\n",
       "      <td>S</td>\n",
       "      <td>69.55</td>\n",
       "      <td>Sage, Mr. Frederick</td>\n",
       "      <td>2</td>\n",
       "      <td>202</td>\n",
       "      <td>3</td>\n",
       "      <td>male</td>\n",
       "      <td>8</td>\n",
       "      <td>...</td>\n",
       "      <td>mr</td>\n",
       "      <td>0</td>\n",
       "      <td>0</td>\n",
       "      <td>0</td>\n",
       "      <td>missing</td>\n",
       "      <td>0</td>\n",
       "      <td>10</td>\n",
       "      <td>6.140574</td>\n",
       "      <td>0</td>\n",
       "      <td>0</td>\n",
       "    </tr>\n",
       "    <tr>\n",
       "      <th>324</th>\n",
       "      <td>29.0</td>\n",
       "      <td>NaN</td>\n",
       "      <td>S</td>\n",
       "      <td>69.55</td>\n",
       "      <td>Sage, Mr. George John Jr</td>\n",
       "      <td>2</td>\n",
       "      <td>325</td>\n",
       "      <td>3</td>\n",
       "      <td>male</td>\n",
       "      <td>8</td>\n",
       "      <td>...</td>\n",
       "      <td>mr</td>\n",
       "      <td>0</td>\n",
       "      <td>0</td>\n",
       "      <td>0</td>\n",
       "      <td>missing</td>\n",
       "      <td>0</td>\n",
       "      <td>10</td>\n",
       "      <td>6.140574</td>\n",
       "      <td>0</td>\n",
       "      <td>0</td>\n",
       "    </tr>\n",
       "    <tr>\n",
       "      <th>792</th>\n",
       "      <td>22.0</td>\n",
       "      <td>NaN</td>\n",
       "      <td>S</td>\n",
       "      <td>69.55</td>\n",
       "      <td>Sage, Miss. Stella Anna</td>\n",
       "      <td>2</td>\n",
       "      <td>793</td>\n",
       "      <td>3</td>\n",
       "      <td>female</td>\n",
       "      <td>8</td>\n",
       "      <td>...</td>\n",
       "      <td>miss</td>\n",
       "      <td>2</td>\n",
       "      <td>1</td>\n",
       "      <td>0</td>\n",
       "      <td>missing</td>\n",
       "      <td>0</td>\n",
       "      <td>10</td>\n",
       "      <td>6.140574</td>\n",
       "      <td>0</td>\n",
       "      <td>0</td>\n",
       "    </tr>\n",
       "    <tr>\n",
       "      <th>846</th>\n",
       "      <td>29.0</td>\n",
       "      <td>NaN</td>\n",
       "      <td>S</td>\n",
       "      <td>69.55</td>\n",
       "      <td>Sage, Mr. Douglas Bullen</td>\n",
       "      <td>2</td>\n",
       "      <td>847</td>\n",
       "      <td>3</td>\n",
       "      <td>male</td>\n",
       "      <td>8</td>\n",
       "      <td>...</td>\n",
       "      <td>mr</td>\n",
       "      <td>0</td>\n",
       "      <td>0</td>\n",
       "      <td>0</td>\n",
       "      <td>missing</td>\n",
       "      <td>0</td>\n",
       "      <td>10</td>\n",
       "      <td>6.140574</td>\n",
       "      <td>0</td>\n",
       "      <td>0</td>\n",
       "    </tr>\n",
       "    <tr>\n",
       "      <th>863</th>\n",
       "      <td>22.0</td>\n",
       "      <td>NaN</td>\n",
       "      <td>S</td>\n",
       "      <td>69.55</td>\n",
       "      <td>Sage, Miss. Dorothy Edith \"Dolly\"</td>\n",
       "      <td>2</td>\n",
       "      <td>864</td>\n",
       "      <td>3</td>\n",
       "      <td>female</td>\n",
       "      <td>8</td>\n",
       "      <td>...</td>\n",
       "      <td>miss</td>\n",
       "      <td>2</td>\n",
       "      <td>1</td>\n",
       "      <td>0</td>\n",
       "      <td>missing</td>\n",
       "      <td>0</td>\n",
       "      <td>10</td>\n",
       "      <td>6.140574</td>\n",
       "      <td>0</td>\n",
       "      <td>0</td>\n",
       "    </tr>\n",
       "    <tr>\n",
       "      <th>188</th>\n",
       "      <td>22.0</td>\n",
       "      <td>NaN</td>\n",
       "      <td>S</td>\n",
       "      <td>69.55</td>\n",
       "      <td>Sage, Miss. Ada</td>\n",
       "      <td>2</td>\n",
       "      <td>1080</td>\n",
       "      <td>3</td>\n",
       "      <td>female</td>\n",
       "      <td>8</td>\n",
       "      <td>...</td>\n",
       "      <td>miss</td>\n",
       "      <td>2</td>\n",
       "      <td>1</td>\n",
       "      <td>0</td>\n",
       "      <td>missing</td>\n",
       "      <td>0</td>\n",
       "      <td>10</td>\n",
       "      <td>6.140574</td>\n",
       "      <td>0</td>\n",
       "      <td>0</td>\n",
       "    </tr>\n",
       "    <tr>\n",
       "      <th>342</th>\n",
       "      <td>29.0</td>\n",
       "      <td>NaN</td>\n",
       "      <td>S</td>\n",
       "      <td>69.55</td>\n",
       "      <td>Sage, Mr. John George</td>\n",
       "      <td>9</td>\n",
       "      <td>1234</td>\n",
       "      <td>3</td>\n",
       "      <td>male</td>\n",
       "      <td>1</td>\n",
       "      <td>...</td>\n",
       "      <td>mr</td>\n",
       "      <td>0</td>\n",
       "      <td>0</td>\n",
       "      <td>0</td>\n",
       "      <td>missing</td>\n",
       "      <td>0</td>\n",
       "      <td>10</td>\n",
       "      <td>6.140574</td>\n",
       "      <td>0</td>\n",
       "      <td>0</td>\n",
       "    </tr>\n",
       "    <tr>\n",
       "      <th>360</th>\n",
       "      <td>14.5</td>\n",
       "      <td>NaN</td>\n",
       "      <td>S</td>\n",
       "      <td>69.55</td>\n",
       "      <td>Sage, Master. William Henry</td>\n",
       "      <td>2</td>\n",
       "      <td>1252</td>\n",
       "      <td>3</td>\n",
       "      <td>male</td>\n",
       "      <td>8</td>\n",
       "      <td>...</td>\n",
       "      <td>master</td>\n",
       "      <td>3</td>\n",
       "      <td>0</td>\n",
       "      <td>0</td>\n",
       "      <td>missing</td>\n",
       "      <td>0</td>\n",
       "      <td>10</td>\n",
       "      <td>6.140574</td>\n",
       "      <td>3</td>\n",
       "      <td>0</td>\n",
       "    </tr>\n",
       "    <tr>\n",
       "      <th>365</th>\n",
       "      <td>35.5</td>\n",
       "      <td>NaN</td>\n",
       "      <td>S</td>\n",
       "      <td>69.55</td>\n",
       "      <td>Sage, Mrs. John (Annie Bullen)</td>\n",
       "      <td>9</td>\n",
       "      <td>1257</td>\n",
       "      <td>3</td>\n",
       "      <td>female</td>\n",
       "      <td>1</td>\n",
       "      <td>...</td>\n",
       "      <td>mrs</td>\n",
       "      <td>1</td>\n",
       "      <td>1</td>\n",
       "      <td>0</td>\n",
       "      <td>missing</td>\n",
       "      <td>0</td>\n",
       "      <td>10</td>\n",
       "      <td>6.140574</td>\n",
       "      <td>0</td>\n",
       "      <td>0</td>\n",
       "    </tr>\n",
       "  </tbody>\n",
       "</table>\n",
       "<p>11 rows × 23 columns</p>\n",
       "</div>"
      ],
      "text/plain": [
       "      Age Cabin Embarked   Fare                               Name  Parch  \\\n",
       "159   4.0   NaN        S  69.55         Sage, Master. Thomas Henry      2   \n",
       "180  22.0   NaN        S  69.55       Sage, Miss. Constance Gladys      2   \n",
       "201  29.0   NaN        S  69.55                Sage, Mr. Frederick      2   \n",
       "324  29.0   NaN        S  69.55           Sage, Mr. George John Jr      2   \n",
       "792  22.0   NaN        S  69.55            Sage, Miss. Stella Anna      2   \n",
       "846  29.0   NaN        S  69.55           Sage, Mr. Douglas Bullen      2   \n",
       "863  22.0   NaN        S  69.55  Sage, Miss. Dorothy Edith \"Dolly\"      2   \n",
       "188  22.0   NaN        S  69.55                    Sage, Miss. Ada      2   \n",
       "342  29.0   NaN        S  69.55              Sage, Mr. John George      9   \n",
       "360  14.5   NaN        S  69.55        Sage, Master. William Henry      2   \n",
       "365  35.5   NaN        S  69.55     Sage, Mrs. John (Annie Bullen)      9   \n",
       "\n",
       "     PassengerId  Pclass     Sex  SibSp   ...    title_norm title_norm_cat  \\\n",
       "159          160       3    male      8   ...        master              3   \n",
       "180          181       3  female      8   ...          miss              2   \n",
       "201          202       3    male      8   ...            mr              0   \n",
       "324          325       3    male      8   ...            mr              0   \n",
       "792          793       3  female      8   ...          miss              2   \n",
       "846          847       3    male      8   ...            mr              0   \n",
       "863          864       3  female      8   ...          miss              2   \n",
       "188         1080       3  female      8   ...          miss              2   \n",
       "342         1234       3    male      1   ...            mr              0   \n",
       "360         1252       3    male      8   ...        master              3   \n",
       "365         1257       3  female      1   ...           mrs              1   \n",
       "\n",
       "    sex_cat embarked_cat  cabin_norm  cabin_norm_cat  family_size  fare_log  \\\n",
       "159       0            0     missing               0           10  6.140574   \n",
       "180       1            0     missing               0           10  6.140574   \n",
       "201       0            0     missing               0           10  6.140574   \n",
       "324       0            0     missing               0           10  6.140574   \n",
       "792       1            0     missing               0           10  6.140574   \n",
       "846       0            0     missing               0           10  6.140574   \n",
       "863       1            0     missing               0           10  6.140574   \n",
       "188       1            0     missing               0           10  6.140574   \n",
       "342       0            0     missing               0           10  6.140574   \n",
       "360       0            0     missing               0           10  6.140574   \n",
       "365       1            0     missing               0           10  6.140574   \n",
       "\n",
       "     age_bin  single  \n",
       "159        4       0  \n",
       "180        0       0  \n",
       "201        0       0  \n",
       "324        0       0  \n",
       "792        0       0  \n",
       "846        0       0  \n",
       "863        0       0  \n",
       "188        0       0  \n",
       "342        0       0  \n",
       "360        3       0  \n",
       "365        0       0  \n",
       "\n",
       "[11 rows x 23 columns]"
      ]
     },
     "execution_count": 94,
     "metadata": {},
     "output_type": "execute_result"
    }
   ],
   "source": [
    "df[ df.Ticket == 'CA. 2343' ]"
   ]
  },
  {
   "cell_type": "markdown",
   "metadata": {},
   "source": [
    "## Last name"
   ]
  },
  {
   "cell_type": "code",
   "execution_count": 65,
   "metadata": {},
   "outputs": [
    {
     "data": {
      "text/plain": [
       "Andersson        11\n",
       "Sage             11\n",
       "Goodwin           8\n",
       "Asplund           8\n",
       "Davies            7\n",
       "Smith             6\n",
       "Johnson           6\n",
       "Ford              6\n",
       "Rice              6\n",
       "Skoog             6\n",
       "Carter            6\n",
       "Fortune           6\n",
       "Panula            6\n",
       "Brown             6\n",
       "Lefebre           5\n",
       "Kelly             5\n",
       "Ryerson           5\n",
       "Thomas            5\n",
       "Palsson           5\n",
       "Williams          5\n",
       "Laroche           4\n",
       "Cacic             4\n",
       "Vander Planke     4\n",
       "Hart              4\n",
       "Boulos            4\n",
       "Herman            4\n",
       "Olsen             4\n",
       "Hansen            4\n",
       "Becker            4\n",
       "West              4\n",
       "                 ..\n",
       "Honkanen          1\n",
       "Hipkins           1\n",
       "Young             1\n",
       "Cassebeer         1\n",
       "Parkes            1\n",
       "Abrahim           1\n",
       "Petranec          1\n",
       "Slocovski         1\n",
       "Torfa             1\n",
       "Niskanen          1\n",
       "Patchett          1\n",
       "Gilinski          1\n",
       "Rosenbaum         1\n",
       "Hogeboom          1\n",
       "Leyson            1\n",
       "Jardin            1\n",
       "Candee            1\n",
       "Badt              1\n",
       "Peters            1\n",
       "Gaskell           1\n",
       "Giglio            1\n",
       "O'Sullivan        1\n",
       "Kvillner          1\n",
       "Assaf Khalil      1\n",
       "Sweet             1\n",
       "Shorney           1\n",
       "Mellors           1\n",
       "Tikkanen          1\n",
       "Peduzzi           1\n",
       "Uruchurtu         1\n",
       "Name: Name, Length: 875, dtype: int64"
      ]
     },
     "execution_count": 65,
     "metadata": {},
     "output_type": "execute_result"
    }
   ],
   "source": [
    "df_all['Name'].map(lambda x: x.split(',')[0]).value_counts()"
   ]
  },
  {
   "cell_type": "code",
   "execution_count": 73,
   "metadata": {},
   "outputs": [
    {
     "data": {
      "text/html": [
       "<div>\n",
       "<style>\n",
       "    .dataframe thead tr:only-child th {\n",
       "        text-align: right;\n",
       "    }\n",
       "\n",
       "    .dataframe thead th {\n",
       "        text-align: left;\n",
       "    }\n",
       "\n",
       "    .dataframe tbody tr th {\n",
       "        vertical-align: top;\n",
       "    }\n",
       "</style>\n",
       "<table border=\"1\" class=\"dataframe\">\n",
       "  <thead>\n",
       "    <tr style=\"text-align: right;\">\n",
       "      <th></th>\n",
       "      <th>Age</th>\n",
       "      <th>Cabin</th>\n",
       "      <th>Embarked</th>\n",
       "      <th>Fare</th>\n",
       "      <th>Name</th>\n",
       "      <th>Parch</th>\n",
       "      <th>PassengerId</th>\n",
       "      <th>Pclass</th>\n",
       "      <th>Sex</th>\n",
       "      <th>SibSp</th>\n",
       "      <th>...</th>\n",
       "      <th>title_norm</th>\n",
       "      <th>title_norm_cat</th>\n",
       "      <th>sex_cat</th>\n",
       "      <th>embarked_cat</th>\n",
       "      <th>cabin_norm</th>\n",
       "      <th>cabin_norm_cat</th>\n",
       "      <th>family_size</th>\n",
       "      <th>fare_log</th>\n",
       "      <th>age_bin</th>\n",
       "      <th>single</th>\n",
       "    </tr>\n",
       "  </thead>\n",
       "  <tbody>\n",
       "    <tr>\n",
       "      <th>13</th>\n",
       "      <td>39.0</td>\n",
       "      <td>NaN</td>\n",
       "      <td>S</td>\n",
       "      <td>31.2750</td>\n",
       "      <td>Andersson, Mr. Anders Johan</td>\n",
       "      <td>5</td>\n",
       "      <td>14</td>\n",
       "      <td>3</td>\n",
       "      <td>male</td>\n",
       "      <td>1</td>\n",
       "      <td>...</td>\n",
       "      <td>mr</td>\n",
       "      <td>0</td>\n",
       "      <td>0</td>\n",
       "      <td>0</td>\n",
       "      <td>missing</td>\n",
       "      <td>0</td>\n",
       "      <td>6</td>\n",
       "      <td>5.012345</td>\n",
       "      <td>0</td>\n",
       "      <td>0</td>\n",
       "    </tr>\n",
       "    <tr>\n",
       "      <th>68</th>\n",
       "      <td>17.0</td>\n",
       "      <td>NaN</td>\n",
       "      <td>S</td>\n",
       "      <td>7.9250</td>\n",
       "      <td>Andersson, Miss. Erna Alexandra</td>\n",
       "      <td>2</td>\n",
       "      <td>69</td>\n",
       "      <td>3</td>\n",
       "      <td>female</td>\n",
       "      <td>4</td>\n",
       "      <td>...</td>\n",
       "      <td>miss</td>\n",
       "      <td>2</td>\n",
       "      <td>1</td>\n",
       "      <td>0</td>\n",
       "      <td>missing</td>\n",
       "      <td>0</td>\n",
       "      <td>6</td>\n",
       "      <td>3.157852</td>\n",
       "      <td>5</td>\n",
       "      <td>0</td>\n",
       "    </tr>\n",
       "    <tr>\n",
       "      <th>119</th>\n",
       "      <td>2.0</td>\n",
       "      <td>NaN</td>\n",
       "      <td>S</td>\n",
       "      <td>31.2750</td>\n",
       "      <td>Andersson, Miss. Ellis Anna Maria</td>\n",
       "      <td>2</td>\n",
       "      <td>120</td>\n",
       "      <td>3</td>\n",
       "      <td>female</td>\n",
       "      <td>4</td>\n",
       "      <td>...</td>\n",
       "      <td>miss</td>\n",
       "      <td>2</td>\n",
       "      <td>1</td>\n",
       "      <td>0</td>\n",
       "      <td>missing</td>\n",
       "      <td>0</td>\n",
       "      <td>6</td>\n",
       "      <td>5.012345</td>\n",
       "      <td>2</td>\n",
       "      <td>0</td>\n",
       "    </tr>\n",
       "    <tr>\n",
       "      <th>146</th>\n",
       "      <td>27.0</td>\n",
       "      <td>NaN</td>\n",
       "      <td>S</td>\n",
       "      <td>7.7958</td>\n",
       "      <td>Andersson, Mr. August Edvard (\"Wennerstrom\")</td>\n",
       "      <td>0</td>\n",
       "      <td>147</td>\n",
       "      <td>3</td>\n",
       "      <td>male</td>\n",
       "      <td>0</td>\n",
       "      <td>...</td>\n",
       "      <td>mr</td>\n",
       "      <td>0</td>\n",
       "      <td>0</td>\n",
       "      <td>0</td>\n",
       "      <td>missing</td>\n",
       "      <td>0</td>\n",
       "      <td>0</td>\n",
       "      <td>3.136815</td>\n",
       "      <td>0</td>\n",
       "      <td>1</td>\n",
       "    </tr>\n",
       "    <tr>\n",
       "      <th>541</th>\n",
       "      <td>9.0</td>\n",
       "      <td>NaN</td>\n",
       "      <td>S</td>\n",
       "      <td>31.2750</td>\n",
       "      <td>Andersson, Miss. Ingeborg Constanzia</td>\n",
       "      <td>2</td>\n",
       "      <td>542</td>\n",
       "      <td>3</td>\n",
       "      <td>female</td>\n",
       "      <td>4</td>\n",
       "      <td>...</td>\n",
       "      <td>miss</td>\n",
       "      <td>2</td>\n",
       "      <td>1</td>\n",
       "      <td>0</td>\n",
       "      <td>missing</td>\n",
       "      <td>0</td>\n",
       "      <td>6</td>\n",
       "      <td>5.012345</td>\n",
       "      <td>6</td>\n",
       "      <td>0</td>\n",
       "    </tr>\n",
       "    <tr>\n",
       "      <th>542</th>\n",
       "      <td>11.0</td>\n",
       "      <td>NaN</td>\n",
       "      <td>S</td>\n",
       "      <td>31.2750</td>\n",
       "      <td>Andersson, Miss. Sigrid Elisabeth</td>\n",
       "      <td>2</td>\n",
       "      <td>543</td>\n",
       "      <td>3</td>\n",
       "      <td>female</td>\n",
       "      <td>4</td>\n",
       "      <td>...</td>\n",
       "      <td>miss</td>\n",
       "      <td>2</td>\n",
       "      <td>1</td>\n",
       "      <td>0</td>\n",
       "      <td>missing</td>\n",
       "      <td>0</td>\n",
       "      <td>6</td>\n",
       "      <td>5.012345</td>\n",
       "      <td>3</td>\n",
       "      <td>0</td>\n",
       "    </tr>\n",
       "    <tr>\n",
       "      <th>610</th>\n",
       "      <td>39.0</td>\n",
       "      <td>NaN</td>\n",
       "      <td>S</td>\n",
       "      <td>31.2750</td>\n",
       "      <td>Andersson, Mrs. Anders Johan (Alfrida Konstant...</td>\n",
       "      <td>5</td>\n",
       "      <td>611</td>\n",
       "      <td>3</td>\n",
       "      <td>female</td>\n",
       "      <td>1</td>\n",
       "      <td>...</td>\n",
       "      <td>mrs</td>\n",
       "      <td>1</td>\n",
       "      <td>1</td>\n",
       "      <td>0</td>\n",
       "      <td>missing</td>\n",
       "      <td>0</td>\n",
       "      <td>6</td>\n",
       "      <td>5.012345</td>\n",
       "      <td>0</td>\n",
       "      <td>0</td>\n",
       "    </tr>\n",
       "    <tr>\n",
       "      <th>813</th>\n",
       "      <td>6.0</td>\n",
       "      <td>NaN</td>\n",
       "      <td>S</td>\n",
       "      <td>31.2750</td>\n",
       "      <td>Andersson, Miss. Ebba Iris Alfrida</td>\n",
       "      <td>2</td>\n",
       "      <td>814</td>\n",
       "      <td>3</td>\n",
       "      <td>female</td>\n",
       "      <td>4</td>\n",
       "      <td>...</td>\n",
       "      <td>miss</td>\n",
       "      <td>2</td>\n",
       "      <td>1</td>\n",
       "      <td>0</td>\n",
       "      <td>missing</td>\n",
       "      <td>0</td>\n",
       "      <td>6</td>\n",
       "      <td>5.012345</td>\n",
       "      <td>6</td>\n",
       "      <td>0</td>\n",
       "    </tr>\n",
       "    <tr>\n",
       "      <th>850</th>\n",
       "      <td>4.0</td>\n",
       "      <td>NaN</td>\n",
       "      <td>S</td>\n",
       "      <td>31.2750</td>\n",
       "      <td>Andersson, Master. Sigvard Harald Elias</td>\n",
       "      <td>2</td>\n",
       "      <td>851</td>\n",
       "      <td>3</td>\n",
       "      <td>male</td>\n",
       "      <td>4</td>\n",
       "      <td>...</td>\n",
       "      <td>master</td>\n",
       "      <td>3</td>\n",
       "      <td>0</td>\n",
       "      <td>0</td>\n",
       "      <td>missing</td>\n",
       "      <td>0</td>\n",
       "      <td>6</td>\n",
       "      <td>5.012345</td>\n",
       "      <td>4</td>\n",
       "      <td>0</td>\n",
       "    </tr>\n",
       "    <tr>\n",
       "      <th>214</th>\n",
       "      <td>38.0</td>\n",
       "      <td>NaN</td>\n",
       "      <td>S</td>\n",
       "      <td>7.7750</td>\n",
       "      <td>Andersson, Miss. Ida Augusta Margareta</td>\n",
       "      <td>2</td>\n",
       "      <td>1106</td>\n",
       "      <td>3</td>\n",
       "      <td>female</td>\n",
       "      <td>4</td>\n",
       "      <td>...</td>\n",
       "      <td>miss</td>\n",
       "      <td>2</td>\n",
       "      <td>1</td>\n",
       "      <td>0</td>\n",
       "      <td>missing</td>\n",
       "      <td>0</td>\n",
       "      <td>6</td>\n",
       "      <td>3.133399</td>\n",
       "      <td>0</td>\n",
       "      <td>0</td>\n",
       "    </tr>\n",
       "    <tr>\n",
       "      <th>320</th>\n",
       "      <td>26.0</td>\n",
       "      <td>NaN</td>\n",
       "      <td>S</td>\n",
       "      <td>7.7750</td>\n",
       "      <td>Andersson, Mr. Johan Samuel</td>\n",
       "      <td>0</td>\n",
       "      <td>1212</td>\n",
       "      <td>3</td>\n",
       "      <td>male</td>\n",
       "      <td>0</td>\n",
       "      <td>...</td>\n",
       "      <td>mr</td>\n",
       "      <td>0</td>\n",
       "      <td>0</td>\n",
       "      <td>0</td>\n",
       "      <td>missing</td>\n",
       "      <td>0</td>\n",
       "      <td>0</td>\n",
       "      <td>3.133399</td>\n",
       "      <td>0</td>\n",
       "      <td>1</td>\n",
       "    </tr>\n",
       "  </tbody>\n",
       "</table>\n",
       "<p>11 rows × 23 columns</p>\n",
       "</div>"
      ],
      "text/plain": [
       "      Age Cabin Embarked     Fare  \\\n",
       "13   39.0   NaN        S  31.2750   \n",
       "68   17.0   NaN        S   7.9250   \n",
       "119   2.0   NaN        S  31.2750   \n",
       "146  27.0   NaN        S   7.7958   \n",
       "541   9.0   NaN        S  31.2750   \n",
       "542  11.0   NaN        S  31.2750   \n",
       "610  39.0   NaN        S  31.2750   \n",
       "813   6.0   NaN        S  31.2750   \n",
       "850   4.0   NaN        S  31.2750   \n",
       "214  38.0   NaN        S   7.7750   \n",
       "320  26.0   NaN        S   7.7750   \n",
       "\n",
       "                                                  Name  Parch  PassengerId  \\\n",
       "13                         Andersson, Mr. Anders Johan      5           14   \n",
       "68                     Andersson, Miss. Erna Alexandra      2           69   \n",
       "119                  Andersson, Miss. Ellis Anna Maria      2          120   \n",
       "146       Andersson, Mr. August Edvard (\"Wennerstrom\")      0          147   \n",
       "541               Andersson, Miss. Ingeborg Constanzia      2          542   \n",
       "542                  Andersson, Miss. Sigrid Elisabeth      2          543   \n",
       "610  Andersson, Mrs. Anders Johan (Alfrida Konstant...      5          611   \n",
       "813                 Andersson, Miss. Ebba Iris Alfrida      2          814   \n",
       "850            Andersson, Master. Sigvard Harald Elias      2          851   \n",
       "214             Andersson, Miss. Ida Augusta Margareta      2         1106   \n",
       "320                        Andersson, Mr. Johan Samuel      0         1212   \n",
       "\n",
       "     Pclass     Sex  SibSp   ...    title_norm title_norm_cat sex_cat  \\\n",
       "13        3    male      1   ...            mr              0       0   \n",
       "68        3  female      4   ...          miss              2       1   \n",
       "119       3  female      4   ...          miss              2       1   \n",
       "146       3    male      0   ...            mr              0       0   \n",
       "541       3  female      4   ...          miss              2       1   \n",
       "542       3  female      4   ...          miss              2       1   \n",
       "610       3  female      1   ...           mrs              1       1   \n",
       "813       3  female      4   ...          miss              2       1   \n",
       "850       3    male      4   ...        master              3       0   \n",
       "214       3  female      4   ...          miss              2       1   \n",
       "320       3    male      0   ...            mr              0       0   \n",
       "\n",
       "    embarked_cat  cabin_norm  cabin_norm_cat  family_size  fare_log  age_bin  \\\n",
       "13             0     missing               0            6  5.012345        0   \n",
       "68             0     missing               0            6  3.157852        5   \n",
       "119            0     missing               0            6  5.012345        2   \n",
       "146            0     missing               0            0  3.136815        0   \n",
       "541            0     missing               0            6  5.012345        6   \n",
       "542            0     missing               0            6  5.012345        3   \n",
       "610            0     missing               0            6  5.012345        0   \n",
       "813            0     missing               0            6  5.012345        6   \n",
       "850            0     missing               0            6  5.012345        4   \n",
       "214            0     missing               0            6  3.133399        0   \n",
       "320            0     missing               0            0  3.133399        0   \n",
       "\n",
       "     single  \n",
       "13        0  \n",
       "68        0  \n",
       "119       0  \n",
       "146       1  \n",
       "541       0  \n",
       "542       0  \n",
       "610       0  \n",
       "813       0  \n",
       "850       0  \n",
       "214       0  \n",
       "320       1  \n",
       "\n",
       "[11 rows x 23 columns]"
      ]
     },
     "execution_count": 73,
     "metadata": {},
     "output_type": "execute_result"
    }
   ],
   "source": [
    "df_all[ df_all.Name.map(lambda x: x.split(',')[0] == 'Andersson' ) ]"
   ]
  },
  {
   "cell_type": "code",
   "execution_count": null,
   "metadata": {
    "collapsed": true
   },
   "outputs": [],
   "source": []
  },
  {
   "cell_type": "markdown",
   "metadata": {},
   "source": [
    "## XGBoost"
   ]
  },
  {
   "cell_type": "code",
   "execution_count": 66,
   "metadata": {},
   "outputs": [
    {
     "data": {
      "image/png": "[encoded data removed]",
      "text/plain": [
       "<matplotlib.figure.Figure at 0x116087da0>"
      ]
     },
     "metadata": {},
     "output_type": "display_data"
    }
   ],
   "source": [
    "model = xgb.XGBClassifier(max_depth=3, n_estimators=15, subsample=0.8, random_state=2018)\n",
    "result = cross_validate(model, X, y, scoring='accuracy', cv=3)\n",
    "plot_result(\"Random Forest: max_depth=%s\" % max_depth, result, ylim=(0.7, 0.9))"
   ]
  },
  {
   "cell_type": "markdown",
   "metadata": {},
   "source": [
    "## Links\n",
    "- [Kernels](https://www.kaggle.com/c/titanic/kernels)\n"
   ]
  },
  {
   "cell_type": "code",
   "execution_count": 76,
   "metadata": {
    "collapsed": true
   },
   "outputs": [],
   "source": []
  },
  {
   "cell_type": "code",
   "execution_count": null,
   "metadata": {
    "collapsed": true
   },
   "outputs": [],
   "source": []
  },
  {
   "cell_type": "code",
   "execution_count": null,
   "metadata": {
    "collapsed": true
   },
   "outputs": [],
   "source": []
  }
 ],
 "metadata": {
  "kernelspec": {
   "display_name": "Python 3",
   "language": "python",
   "name": "python3"
  },
  "language_info": {
   "codemirror_mode": {
    "name": "ipython",
    "version": 3
   },
   "file_extension": ".py",
   "mimetype": "text/x-python",
   "name": "python",
   "nbconvert_exporter": "python",
   "pygments_lexer": "ipython3",
   "version": "3.6.1"
  }
 },
 "nbformat": 4,
 "nbformat_minor": 2
}
